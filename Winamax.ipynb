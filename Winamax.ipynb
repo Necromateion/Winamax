{
 "cells": [
  {
   "cell_type": "markdown",
   "id": "60cb6314",
   "metadata": {},
   "source": [
    "## PIP INSTALL"
   ]
  },
  {
   "cell_type": "code",
   "execution_count": 4,
   "id": "1af292c2",
   "metadata": {},
   "outputs": [
    {
     "name": "stdout",
     "output_type": "stream",
     "text": [
      "Collecting torch\n",
      "  Using cached torch-1.13.1-cp37-cp37m-win_amd64.whl (162.6 MB)\n",
      "Collecting torchvision\n",
      "  Downloading torchvision-0.14.1-cp37-cp37m-win_amd64.whl (1.1 MB)\n",
      "     ---------------------------------------- 1.1/1.1 MB 33.8 MB/s eta 0:00:00\n",
      "Collecting torchaudio\n",
      "  Downloading torchaudio-0.13.1-cp37-cp37m-win_amd64.whl (2.0 MB)\n",
      "     ---------------------------------------- 2.0/2.0 MB 32.2 MB/s eta 0:00:00\n",
      "Requirement already satisfied: typing-extensions in c:\\users\\andy\\anaconda3\\envs\\data\\lib\\site-packages (from torch) (4.4.0)\n",
      "Requirement already satisfied: numpy in c:\\users\\andy\\anaconda3\\envs\\data\\lib\\site-packages (from torchvision) (1.21.6)\n",
      "Requirement already satisfied: requests in c:\\users\\andy\\anaconda3\\envs\\data\\lib\\site-packages (from torchvision) (2.18.4)\n",
      "Requirement already satisfied: pillow!=8.3.*,>=5.3.0 in c:\\users\\andy\\anaconda3\\envs\\data\\lib\\site-packages (from torchvision) (7.2.0)\n",
      "Requirement already satisfied: certifi>=2017.4.17 in c:\\users\\andy\\anaconda3\\envs\\data\\lib\\site-packages (from requests->torchvision) (2022.6.15)\n",
      "Requirement already satisfied: chardet<3.1.0,>=3.0.2 in c:\\users\\andy\\anaconda3\\envs\\data\\lib\\site-packages (from requests->torchvision) (3.0.4)\n",
      "Requirement already satisfied: idna<2.7,>=2.5 in c:\\users\\andy\\anaconda3\\envs\\data\\lib\\site-packages (from requests->torchvision) (2.6)\n",
      "Requirement already satisfied: urllib3<1.23,>=1.21.1 in c:\\users\\andy\\anaconda3\\envs\\data\\lib\\site-packages (from requests->torchvision) (1.22)\n",
      "Installing collected packages: torch, torchvision, torchaudio\n",
      "Successfully installed torch-1.13.1 torchaudio-0.13.1 torchvision-0.14.1\n"
     ]
    },
    {
     "name": "stderr",
     "output_type": "stream",
     "text": [
      "WARNING: Ignoring invalid distribution -umpy (c:\\users\\andy\\anaconda3\\envs\\data\\lib\\site-packages)\n",
      "WARNING: Ignoring invalid distribution -umpy (c:\\users\\andy\\anaconda3\\envs\\data\\lib\\site-packages)\n",
      "\n",
      "[notice] A new release of pip is available: 23.2.1 -> 23.3.1\n",
      "[notice] To update, run: python.exe -m pip install --upgrade pip\n"
     ]
    }
   ],
   "source": [
    "!pip install torch torchvision torchaudio"
   ]
  },
  {
   "cell_type": "code",
   "execution_count": 9,
   "id": "539c5b0d",
   "metadata": {},
   "outputs": [
    {
     "name": "stdout",
     "output_type": "stream",
     "text": [
      "Requirement already satisfied: numpy in c:\\users\\andy\\anaconda3\\envs\\data\\lib\\site-packages (1.21.6)"
     ]
    },
    {
     "name": "stderr",
     "output_type": "stream",
     "text": [
      "WARNING: Ignoring invalid distribution -umpy (c:\\users\\andy\\anaconda3\\envs\\data\\lib\\site-packages)\n",
      "WARNING: Ignoring invalid distribution -umpy (c:\\users\\andy\\anaconda3\\envs\\data\\lib\\site-packages)\n",
      "\n",
      "[notice] A new release of pip is available: 23.2.1 -> 23.3.1\n",
      "[notice] To update, run: python.exe -m pip install --upgrade pip\n"
     ]
    },
    {
     "name": "stdout",
     "output_type": "stream",
     "text": [
      "\n",
      "Requirement already satisfied: requests in c:\\users\\andy\\anaconda3\\envs\\data\\lib\\site-packages (2.18.4)\n",
      "Requirement already satisfied: beautifulsoup4 in c:\\users\\andy\\anaconda3\\envs\\data\\lib\\site-packages (4.11.1)\n",
      "Requirement already satisfied: gensim in c:\\users\\andy\\anaconda3\\envs\\data\\lib\\site-packages (4.2.0)\n",
      "Requirement already satisfied: nltk in c:\\users\\andy\\anaconda3\\envs\\data\\lib\\site-packages (3.8.1)\n",
      "Requirement already satisfied: spacy in c:\\users\\andy\\anaconda3\\envs\\data\\lib\\site-packages (3.7.2)\n",
      "Requirement already satisfied: certifi>=2017.4.17 in c:\\users\\andy\\anaconda3\\envs\\data\\lib\\site-packages (from requests) (2022.6.15)\n",
      "Requirement already satisfied: chardet<3.1.0,>=3.0.2 in c:\\users\\andy\\anaconda3\\envs\\data\\lib\\site-packages (from requests) (3.0.4)\n",
      "Requirement already satisfied: idna<2.7,>=2.5 in c:\\users\\andy\\anaconda3\\envs\\data\\lib\\site-packages (from requests) (2.6)\n",
      "Requirement already satisfied: urllib3<1.23,>=1.21.1 in c:\\users\\andy\\anaconda3\\envs\\data\\lib\\site-packages (from requests) (1.22)\n",
      "Requirement already satisfied: soupsieve>1.2 in c:\\users\\andy\\anaconda3\\envs\\data\\lib\\site-packages (from beautifulsoup4) (2.3.1)\n",
      "Requirement already satisfied: scipy>=0.18.1 in c:\\users\\andy\\anaconda3\\envs\\data\\lib\\site-packages (from gensim) (1.4.1)\n",
      "Requirement already satisfied: smart-open>=1.8.1 in c:\\users\\andy\\anaconda3\\envs\\data\\lib\\site-packages (from gensim) (6.4.0)\n",
      "Requirement already satisfied: Cython==0.29.28 in c:\\users\\andy\\anaconda3\\envs\\data\\lib\\site-packages (from gensim) (0.29.28)\n",
      "Requirement already satisfied: click in c:\\users\\andy\\anaconda3\\envs\\data\\lib\\site-packages (from nltk) (8.0.4)\n",
      "Requirement already satisfied: joblib in c:\\users\\andy\\anaconda3\\envs\\data\\lib\\site-packages (from nltk) (1.1.0)\n",
      "Requirement already satisfied: regex>=2021.8.3 in c:\\users\\andy\\anaconda3\\envs\\data\\lib\\site-packages (from nltk) (2022.3.15)\n",
      "Requirement already satisfied: tqdm in c:\\users\\andy\\anaconda3\\envs\\data\\lib\\site-packages (from nltk) (4.66.1)\n",
      "Requirement already satisfied: spacy-legacy<3.1.0,>=3.0.11 in c:\\users\\andy\\anaconda3\\envs\\data\\lib\\site-packages (from spacy) (3.0.12)\n",
      "Requirement already satisfied: spacy-loggers<2.0.0,>=1.0.0 in c:\\users\\andy\\anaconda3\\envs\\data\\lib\\site-packages (from spacy) (1.0.5)\n",
      "Requirement already satisfied: murmurhash<1.1.0,>=0.28.0 in c:\\users\\andy\\anaconda3\\envs\\data\\lib\\site-packages (from spacy) (1.0.10)\n",
      "Requirement already satisfied: cymem<2.1.0,>=2.0.2 in c:\\users\\andy\\anaconda3\\envs\\data\\lib\\site-packages (from spacy) (2.0.8)\n",
      "Requirement already satisfied: preshed<3.1.0,>=3.0.2 in c:\\users\\andy\\anaconda3\\envs\\data\\lib\\site-packages (from spacy) (3.0.9)\n",
      "Requirement already satisfied: thinc<8.3.0,>=8.1.8 in c:\\users\\andy\\anaconda3\\envs\\data\\lib\\site-packages (from spacy) (8.2.1)\n",
      "Requirement already satisfied: wasabi<1.2.0,>=0.9.1 in c:\\users\\andy\\anaconda3\\envs\\data\\lib\\site-packages (from spacy) (1.1.2)\n",
      "Requirement already satisfied: srsly<3.0.0,>=2.4.3 in c:\\users\\andy\\anaconda3\\envs\\data\\lib\\site-packages (from spacy) (2.4.8)\n",
      "Requirement already satisfied: catalogue<2.1.0,>=2.0.6 in c:\\users\\andy\\anaconda3\\envs\\data\\lib\\site-packages (from spacy) (2.0.10)\n",
      "Requirement already satisfied: weasel<0.4.0,>=0.1.0 in c:\\users\\andy\\anaconda3\\envs\\data\\lib\\site-packages (from spacy) (0.3.3)\n",
      "Requirement already satisfied: typer<0.10.0,>=0.3.0 in c:\\users\\andy\\anaconda3\\envs\\data\\lib\\site-packages (from spacy) (0.9.0)\n",
      "Requirement already satisfied: pydantic!=1.8,!=1.8.1,<3.0.0,>=1.7.4 in c:\\users\\andy\\anaconda3\\envs\\data\\lib\\site-packages (from spacy) (1.10.13)\n",
      "Requirement already satisfied: jinja2 in c:\\users\\andy\\appdata\\roaming\\python\\python37\\site-packages (from spacy) (3.1.2)\n",
      "Requirement already satisfied: setuptools in c:\\users\\andy\\anaconda3\\envs\\data\\lib\\site-packages (from spacy) (61.2.0)\n",
      "Requirement already satisfied: packaging>=20.0 in c:\\users\\andy\\anaconda3\\envs\\data\\lib\\site-packages (from spacy) (21.3)\n",
      "Requirement already satisfied: langcodes<4.0.0,>=3.2.0 in c:\\users\\andy\\anaconda3\\envs\\data\\lib\\site-packages (from spacy) (3.3.0)\n",
      "Requirement already satisfied: typing-extensions<4.5.0,>=3.7.4.1 in c:\\users\\andy\\anaconda3\\envs\\data\\lib\\site-packages (from spacy) (4.4.0)\n",
      "Requirement already satisfied: zipp>=0.5 in c:\\users\\andy\\anaconda3\\envs\\data\\lib\\site-packages (from catalogue<2.1.0,>=2.0.6->spacy) (3.8.0)\n",
      "Requirement already satisfied: pyparsing!=3.0.5,>=2.0.2 in c:\\users\\andy\\anaconda3\\envs\\data\\lib\\site-packages (from packaging>=20.0->spacy) (3.0.4)\n",
      "Requirement already satisfied: blis<0.8.0,>=0.7.8 in c:\\users\\andy\\anaconda3\\envs\\data\\lib\\site-packages (from thinc<8.3.0,>=8.1.8->spacy) (0.7.11)\n",
      "Requirement already satisfied: confection<1.0.0,>=0.0.1 in c:\\users\\andy\\anaconda3\\envs\\data\\lib\\site-packages (from thinc<8.3.0,>=8.1.8->spacy) (0.1.3)\n",
      "Requirement already satisfied: colorama in c:\\users\\andy\\anaconda3\\envs\\data\\lib\\site-packages (from tqdm->nltk) (0.4.6)\n",
      "Requirement already satisfied: importlib-metadata in c:\\users\\andy\\appdata\\roaming\\python\\python37\\site-packages (from click->nltk) (6.6.0)\n",
      "Requirement already satisfied: cloudpathlib<0.17.0,>=0.7.0 in c:\\users\\andy\\anaconda3\\envs\\data\\lib\\site-packages (from weasel<0.4.0,>=0.1.0->spacy) (0.16.0)\n",
      "Requirement already satisfied: MarkupSafe>=2.0 in c:\\users\\andy\\appdata\\roaming\\python\\python37\\site-packages (from jinja2->spacy) (2.1.2)\n"
     ]
    }
   ],
   "source": [
    "!pip install requests beautifulsoup4 gensim nltk spacy transformers\n",
    "  "
   ]
  },
  {
   "cell_type": "code",
   "execution_count": 46,
   "id": "94998e86",
   "metadata": {},
   "outputs": [
    {
     "name": "stdout",
     "output_type": "stream",
     "text": [
      "Collecting bert-embedding"
     ]
    },
    {
     "name": "stderr",
     "output_type": "stream",
     "text": [
      "WARNING: Ignoring invalid distribution -umpy (c:\\users\\andy\\anaconda3\\envs\\data\\lib\\site-packages)\n",
      "WARNING: Ignoring invalid distribution -umpy (c:\\users\\andy\\anaconda3\\envs\\data\\lib\\site-packages)\n",
      "\n",
      "[notice] A new release of pip is available: 23.2.1 -> 23.3.1\n",
      "[notice] To update, run: python.exe -m pip install --upgrade pip\n"
     ]
    },
    {
     "name": "stdout",
     "output_type": "stream",
     "text": [
      "\n",
      "  Using cached bert_embedding-1.0.1-py3-none-any.whl (13 kB)\n",
      "Requirement already satisfied: typing==3.6.6 in c:\\users\\andy\\anaconda3\\envs\\data\\lib\\site-packages (from bert-embedding) (3.6.6)\n",
      "Requirement already satisfied: numpy==1.14.6 in c:\\users\\andy\\anaconda3\\envs\\data\\lib\\site-packages (from bert-embedding) (1.14.6)\n",
      "Collecting mxnet==1.4.0 (from bert-embedding)\n",
      "  Using cached mxnet-1.4.0-py2.py3-none-win_amd64.whl (21.9 MB)\n",
      "Collecting gluonnlp==0.6.0 (from bert-embedding)\n",
      "  Using cached gluonnlp-0.6.0-py3-none-any.whl\n",
      "Requirement already satisfied: requests<2.19.0,>=2.18.4 in c:\\users\\andy\\anaconda3\\envs\\data\\lib\\site-packages (from mxnet==1.4.0->bert-embedding) (2.18.4)\n",
      "Collecting graphviz<0.9.0,>=0.8.1 (from mxnet==1.4.0->bert-embedding)\n",
      "  Using cached graphviz-0.8.4-py2.py3-none-any.whl (16 kB)\n",
      "Requirement already satisfied: certifi>=2017.4.17 in c:\\users\\andy\\anaconda3\\envs\\data\\lib\\site-packages (from requests<2.19.0,>=2.18.4->mxnet==1.4.0->bert-embedding) (2022.6.15)\n",
      "Requirement already satisfied: chardet<3.1.0,>=3.0.2 in c:\\users\\andy\\anaconda3\\envs\\data\\lib\\site-packages (from requests<2.19.0,>=2.18.4->mxnet==1.4.0->bert-embedding) (3.0.4)\n",
      "Requirement already satisfied: idna<2.7,>=2.5 in c:\\users\\andy\\anaconda3\\envs\\data\\lib\\site-packages (from requests<2.19.0,>=2.18.4->mxnet==1.4.0->bert-embedding) (2.6)\n",
      "Requirement already satisfied: urllib3<1.23,>=1.21.1 in c:\\users\\andy\\anaconda3\\envs\\data\\lib\\site-packages (from requests<2.19.0,>=2.18.4->mxnet==1.4.0->bert-embedding) (1.22)\n",
      "Installing collected packages: graphviz, gluonnlp, mxnet, bert-embedding\n",
      "Successfully installed bert-embedding-1.0.1 gluonnlp-0.6.0 graphviz-0.8.4 mxnet-1.4.0\n"
     ]
    }
   ],
   "source": [
    "!pip install bert-embedding"
   ]
  },
  {
   "cell_type": "code",
   "execution_count": 35,
   "id": "2ff2033f",
   "metadata": {},
   "outputs": [
    {
     "name": "stdout",
     "output_type": "stream",
     "text": [
      "Collecting fr-core-news-lg==3.7.0\n",
      "  Downloading https://github.com/explosion/spacy-models/releases/download/fr_core_news_lg-3.7.0/fr_core_news_lg-3.7.0-py3-none-any.whl (571.8 MB)\n",
      "     -------------------------------------- 571.8/571.8 MB 3.8 MB/s eta 0:00:00\n",
      "Requirement already satisfied: spacy<3.8.0,>=3.7.0 in c:\\users\\andy\\anaconda3\\envs\\data\\lib\\site-packages (from fr-core-news-lg==3.7.0) (3.7.2)\n",
      "Requirement already satisfied: spacy-legacy<3.1.0,>=3.0.11 in c:\\users\\andy\\anaconda3\\envs\\data\\lib\\site-packages (from spacy<3.8.0,>=3.7.0->fr-core-news-lg==3.7.0) (3.0.12)\n",
      "Requirement already satisfied: spacy-loggers<2.0.0,>=1.0.0 in c:\\users\\andy\\anaconda3\\envs\\data\\lib\\site-packages (from spacy<3.8.0,>=3.7.0->fr-core-news-lg==3.7.0) (1.0.5)\n",
      "Requirement already satisfied: murmurhash<1.1.0,>=0.28.0 in c:\\users\\andy\\anaconda3\\envs\\data\\lib\\site-packages (from spacy<3.8.0,>=3.7.0->fr-core-news-lg==3.7.0) (1.0.10)\n",
      "Requirement already satisfied: cymem<2.1.0,>=2.0.2 in c:\\users\\andy\\anaconda3\\envs\\data\\lib\\site-packages (from spacy<3.8.0,>=3.7.0->fr-core-news-lg==3.7.0) (2.0.8)\n",
      "Requirement already satisfied: preshed<3.1.0,>=3.0.2 in c:\\users\\andy\\anaconda3\\envs\\data\\lib\\site-packages (from spacy<3.8.0,>=3.7.0->fr-core-news-lg==3.7.0) (3.0.9)\n",
      "Requirement already satisfied: thinc<8.3.0,>=8.1.8 in c:\\users\\andy\\anaconda3\\envs\\data\\lib\\site-packages (from spacy<3.8.0,>=3.7.0->fr-core-news-lg==3.7.0) (8.2.1)\n",
      "Requirement already satisfied: wasabi<1.2.0,>=0.9.1 in c:\\users\\andy\\anaconda3\\envs\\data\\lib\\site-packages (from spacy<3.8.0,>=3.7.0->fr-core-news-lg==3.7.0) (1.1.2)\n",
      "Requirement already satisfied: srsly<3.0.0,>=2.4.3 in c:\\users\\andy\\anaconda3\\envs\\data\\lib\\site-packages (from spacy<3.8.0,>=3.7.0->fr-core-news-lg==3.7.0) (2.4.8)\n",
      "Requirement already satisfied: catalogue<2.1.0,>=2.0.6 in c:\\users\\andy\\anaconda3\\envs\\data\\lib\\site-packages (from spacy<3.8.0,>=3.7.0->fr-core-news-lg==3.7.0) (2.0.10)\n",
      "Requirement already satisfied: weasel<0.4.0,>=0.1.0 in c:\\users\\andy\\anaconda3\\envs\\data\\lib\\site-packages (from spacy<3.8.0,>=3.7.0->fr-core-news-lg==3.7.0) (0.3.3)\n",
      "Requirement already satisfied: typer<0.10.0,>=0.3.0 in c:\\users\\andy\\anaconda3\\envs\\data\\lib\\site-packages (from spacy<3.8.0,>=3.7.0->fr-core-news-lg==3.7.0) (0.9.0)\n",
      "Requirement already satisfied: smart-open<7.0.0,>=5.2.1 in c:\\users\\andy\\anaconda3\\envs\\data\\lib\\site-packages (from spacy<3.8.0,>=3.7.0->fr-core-news-lg==3.7.0) (6.4.0)\n",
      "Requirement already satisfied: tqdm<5.0.0,>=4.38.0 in c:\\users\\andy\\anaconda3\\envs\\data\\lib\\site-packages (from spacy<3.8.0,>=3.7.0->fr-core-news-lg==3.7.0) (4.66.1)\n",
      "Requirement already satisfied: requests<3.0.0,>=2.13.0 in c:\\users\\andy\\anaconda3\\envs\\data\\lib\\site-packages (from spacy<3.8.0,>=3.7.0->fr-core-news-lg==3.7.0) (2.27.1)\n",
      "Requirement already satisfied: pydantic!=1.8,!=1.8.1,<3.0.0,>=1.7.4 in c:\\users\\andy\\anaconda3\\envs\\data\\lib\\site-packages (from spacy<3.8.0,>=3.7.0->fr-core-news-lg==3.7.0) (1.10.13)\n",
      "Requirement already satisfied: jinja2 in c:\\users\\andy\\appdata\\roaming\\python\\python37\\site-packages (from spacy<3.8.0,>=3.7.0->fr-core-news-lg==3.7.0) (3.1.2)\n",
      "Requirement already satisfied: setuptools in c:\\users\\andy\\anaconda3\\envs\\data\\lib\\site-packages (from spacy<3.8.0,>=3.7.0->fr-core-news-lg==3.7.0) (61.2.0)\n",
      "Requirement already satisfied: packaging>=20.0 in c:\\users\\andy\\anaconda3\\envs\\data\\lib\\site-packages (from spacy<3.8.0,>=3.7.0->fr-core-news-lg==3.7.0) (21.3)\n",
      "Requirement already satisfied: langcodes<4.0.0,>=3.2.0 in c:\\users\\andy\\anaconda3\\envs\\data\\lib\\site-packages (from spacy<3.8.0,>=3.7.0->fr-core-news-lg==3.7.0) (3.3.0)\n",
      "Requirement already satisfied: typing-extensions<4.5.0,>=3.7.4.1 in c:\\users\\andy\\anaconda3\\envs\\data\\lib\\site-packages (from spacy<3.8.0,>=3.7.0->fr-core-news-lg==3.7.0) (4.4.0)\n",
      "Requirement already satisfied: numpy>=1.15.0 in c:\\users\\andy\\anaconda3\\envs\\data\\lib\\site-packages (from spacy<3.8.0,>=3.7.0->fr-core-news-lg==3.7.0) (1.21.6)\n",
      "Requirement already satisfied: zipp>=0.5 in c:\\users\\andy\\anaconda3\\envs\\data\\lib\\site-packages (from catalogue<2.1.0,>=2.0.6->spacy<3.8.0,>=3.7.0->fr-core-news-lg==3.7.0) (3.8.0)\n",
      "Requirement already satisfied: pyparsing!=3.0.5,>=2.0.2 in c:\\users\\andy\\anaconda3\\envs\\data\\lib\\site-packages (from packaging>=20.0->spacy<3.8.0,>=3.7.0->fr-core-news-lg==3.7.0) (3.0.4)\n",
      "Requirement already satisfied: urllib3<1.27,>=1.21.1 in c:\\users\\andy\\anaconda3\\envs\\data\\lib\\site-packages (from requests<3.0.0,>=2.13.0->spacy<3.8.0,>=3.7.0->fr-core-news-lg==3.7.0) (1.26.9)\n",
      "Requirement already satisfied: certifi>=2017.4.17 in c:\\users\\andy\\anaconda3\\envs\\data\\lib\\site-packages (from requests<3.0.0,>=2.13.0->spacy<3.8.0,>=3.7.0->fr-core-news-lg==3.7.0) (2022.6.15)\n",
      "Requirement already satisfied: charset-normalizer~=2.0.0 in c:\\users\\andy\\anaconda3\\envs\\data\\lib\\site-packages (from requests<3.0.0,>=2.13.0->spacy<3.8.0,>=3.7.0->fr-core-news-lg==3.7.0) (2.0.4)\n",
      "Requirement already satisfied: idna<4,>=2.5 in c:\\users\\andy\\anaconda3\\envs\\data\\lib\\site-packages (from requests<3.0.0,>=2.13.0->spacy<3.8.0,>=3.7.0->fr-core-news-lg==3.7.0) (3.3)\n",
      "Requirement already satisfied: blis<0.8.0,>=0.7.8 in c:\\users\\andy\\anaconda3\\envs\\data\\lib\\site-packages (from thinc<8.3.0,>=8.1.8->spacy<3.8.0,>=3.7.0->fr-core-news-lg==3.7.0) (0.7.11)\n",
      "Requirement already satisfied: confection<1.0.0,>=0.0.1 in c:\\users\\andy\\anaconda3\\envs\\data\\lib\\site-packages (from thinc<8.3.0,>=8.1.8->spacy<3.8.0,>=3.7.0->fr-core-news-lg==3.7.0) (0.1.3)\n",
      "Requirement already satisfied: colorama in c:\\users\\andy\\anaconda3\\envs\\data\\lib\\site-packages (from tqdm<5.0.0,>=4.38.0->spacy<3.8.0,>=3.7.0->fr-core-news-lg==3.7.0) (0.4.6)\n",
      "Requirement already satisfied: click<9.0.0,>=7.1.1 in c:\\users\\andy\\anaconda3\\envs\\data\\lib\\site-packages (from typer<0.10.0,>=0.3.0->spacy<3.8.0,>=3.7.0->fr-core-news-lg==3.7.0) (8.0.4)\n",
      "Requirement already satisfied: cloudpathlib<0.17.0,>=0.7.0 in c:\\users\\andy\\anaconda3\\envs\\data\\lib\\site-packages (from weasel<0.4.0,>=0.1.0->spacy<3.8.0,>=3.7.0->fr-core-news-lg==3.7.0) (0.16.0)\n",
      "Requirement already satisfied: MarkupSafe>=2.0 in c:\\users\\andy\\appdata\\roaming\\python\\python37\\site-packages (from jinja2->spacy<3.8.0,>=3.7.0->fr-core-news-lg==3.7.0) (2.1.2)\n",
      "Requirement already satisfied: importlib-metadata in c:\\users\\andy\\appdata\\roaming\\python\\python37\\site-packages (from click<9.0.0,>=7.1.1->typer<0.10.0,>=0.3.0->spacy<3.8.0,>=3.7.0->fr-core-news-lg==3.7.0) (6.6.0)\n",
      "Installing collected packages: fr-core-news-lg\n",
      "Successfully installed fr-core-news-lg-3.7.0\n",
      "\u001b[38;5;2m[+] Download and installation successful\u001b[0m\n",
      "You can now load the package via spacy.load('fr_core_news_lg')\n"
     ]
    },
    {
     "name": "stderr",
     "output_type": "stream",
     "text": [
      "WARNING: Ignoring invalid distribution -umpy (c:\\users\\andy\\anaconda3\\envs\\data\\lib\\site-packages)\n",
      "WARNING: Ignoring invalid distribution -umpy (c:\\users\\andy\\anaconda3\\envs\\data\\lib\\site-packages)\n",
      "\n",
      "[notice] A new release of pip is available: 23.2.1 -> 23.3.1\n",
      "[notice] To update, run: python.exe -m pip install --upgrade pip\n"
     ]
    }
   ],
   "source": [
    "!python -m spacy download fr_core_news_lg"
   ]
  },
  {
   "cell_type": "code",
   "execution_count": 15,
   "id": "78fabcc3",
   "metadata": {},
   "outputs": [
    {
     "name": "stdout",
     "output_type": "stream",
     "text": [
      "Found existing installation: numpy 1.21.6\n",
      "Uninstalling numpy-1.21.6:\n",
      "  Successfully uninstalled numpy-1.21.6\n"
     ]
    }
   ],
   "source": [
    "!pip uninstall -y numpy"
   ]
  },
  {
   "cell_type": "code",
   "execution_count": 17,
   "id": "c112f468",
   "metadata": {},
   "outputs": [
    {
     "name": "stdout",
     "output_type": "stream",
     "text": [
      "Collecting numpy\n",
      "  Using cached numpy-1.21.6-cp37-cp37m-win_amd64.whl (14.0 MB)\n",
      "Installing collected packages: numpy\n",
      "Successfully installed numpy-1.21.6\n"
     ]
    },
    {
     "name": "stderr",
     "output_type": "stream",
     "text": [
      "WARNING: Ignoring invalid distribution -umpy (c:\\users\\andy\\anaconda3\\envs\\data\\lib\\site-packages)\n",
      "WARNING: Ignoring invalid distribution -umpy (c:\\users\\andy\\anaconda3\\envs\\data\\lib\\site-packages)\n",
      "ERROR: pip's dependency resolver does not currently take into account all the packages that are installed. This behaviour is the source of the following dependency conflicts.\n",
      "bert-embedding 1.0.1 requires numpy==1.14.6, but you have numpy 1.21.6 which is incompatible.\n",
      "mxnet 1.4.0 requires numpy<1.15.0,>=1.8.2, but you have numpy 1.21.6 which is incompatible.\n",
      "\n",
      "[notice] A new release of pip is available: 23.2.1 -> 23.3.1\n",
      "[notice] To update, run: python.exe -m pip install --upgrade pip\n"
     ]
    }
   ],
   "source": [
    "!pip install numpy"
   ]
  },
  {
   "cell_type": "code",
   "execution_count": 6,
   "id": "f73e2bba",
   "metadata": {},
   "outputs": [
    {
     "name": "stderr",
     "output_type": "stream",
     "text": [
      "C:\\Users\\andy\\anaconda3\\envs\\Data\\lib\\site-packages\\paramiko\\transport.py:219: CryptographyDeprecationWarning: Blowfish has been deprecated\n",
      "  \"class\": algorithms.Blowfish,\n"
     ]
    }
   ],
   "source": [
    "from gensim.parsing.preprocessing import remove_stopwords\n",
    "from nltk.stem import WordNetLemmatizer\n",
    "from nltk import word_tokenize\n",
    "import spacy\n",
    "nlp = spacy.load(\"fr_core_news_lg\") \n",
    "\n"
   ]
  },
  {
   "cell_type": "code",
   "execution_count": 7,
   "id": "5cd21941",
   "metadata": {},
   "outputs": [],
   "source": [
    "from gensim.models import TfidfModel\n",
    "from gensim.corpora import Dictionary"
   ]
  },
  {
   "cell_type": "markdown",
   "id": "dc7a9f4c",
   "metadata": {},
   "source": [
    "## Scraping"
   ]
  },
  {
   "cell_type": "code",
   "execution_count": 8,
   "id": "6a22d6f5",
   "metadata": {},
   "outputs": [],
   "source": [
    "import requests\n",
    "from bs4 import BeautifulSoup\n",
    "\n",
    "base_url = \"https://www.winamax.fr/poker/faq.php?topic=\"\n",
    "topics = range(0, 6)\n",
    "all_faqs = {}\n",
    "\n",
    "for topic in topics:\n",
    "    url = base_url + str(topic)\n",
    "    response = requests.get(url)\n",
    "    if response.status_code == 200:\n",
    "        soup = BeautifulSoup(response.content, 'html.parser')       \n",
    "        questions = soup.select('div.title')\n",
    "        answers = soup.select('div.answer p')\n",
    "        for q, a in zip(questions, answers):\n",
    "            all_faqs[q.text.strip()] = a.text.strip()\n",
    "\n",
    "\n"
   ]
  },
  {
   "cell_type": "code",
   "execution_count": 9,
   "id": "0040fd59",
   "metadata": {},
   "outputs": [
    {
     "data": {
      "text/html": [
       "<div>\n",
       "<style scoped>\n",
       "    .dataframe tbody tr th:only-of-type {\n",
       "        vertical-align: middle;\n",
       "    }\n",
       "\n",
       "    .dataframe tbody tr th {\n",
       "        vertical-align: top;\n",
       "    }\n",
       "\n",
       "    .dataframe thead th {\n",
       "        text-align: right;\n",
       "    }\n",
       "</style>\n",
       "<table border=\"1\" class=\"dataframe\">\n",
       "  <thead>\n",
       "    <tr style=\"text-align: right;\">\n",
       "      <th></th>\n",
       "      <th>questions</th>\n",
       "      <th>answers</th>\n",
       "    </tr>\n",
       "  </thead>\n",
       "  <tbody>\n",
       "    <tr>\n",
       "      <th>0</th>\n",
       "      <td>Comment compléter mon inscription ?</td>\n",
       "      <td>Pour compléter votre inscription et accéder au...</td>\n",
       "    </tr>\n",
       "    <tr>\n",
       "      <th>1</th>\n",
       "      <td>Mes documents ont été validés mais mon compte ...</td>\n",
       "      <td>Une fois votre compte validé (pièce d’identité...</td>\n",
       "    </tr>\n",
       "    <tr>\n",
       "      <th>2</th>\n",
       "      <td>J’ai renseigné une date de naissance incorrect...</td>\n",
       "      <td>Afin que vous puissiez vous connecter, nous vo...</td>\n",
       "    </tr>\n",
       "    <tr>\n",
       "      <th>3</th>\n",
       "      <td>Je n'ai pas reçu mon email d'activation</td>\n",
       "      <td>Il se peut qu'un logiciel de type anti-spam ai...</td>\n",
       "    </tr>\n",
       "    <tr>\n",
       "      <th>4</th>\n",
       "      <td>J'ai oublié mon mot de passe</td>\n",
       "      <td>Pour vous connecter à Winamax, vous devez indi...</td>\n",
       "    </tr>\n",
       "    <tr>\n",
       "      <th>...</th>\n",
       "      <td>...</td>\n",
       "      <td>...</td>\n",
       "    </tr>\n",
       "    <tr>\n",
       "      <th>59</th>\n",
       "      <td>L’un des paris de mon MyMatch a été annulé</td>\n",
       "      <td>Si une sélection est annulée à l’intérieur d’u...</td>\n",
       "    </tr>\n",
       "    <tr>\n",
       "      <th>60</th>\n",
       "      <td>Les paris sportifs permettent-ils de remporter...</td>\n",
       "      <td>Lorsque vous placez des paris sportifs, vous c...</td>\n",
       "    </tr>\n",
       "    <tr>\n",
       "      <th>61</th>\n",
       "      <td>Que sont les Freebets ?</td>\n",
       "      <td>Les Freebets sont des paris gratuits offerts p...</td>\n",
       "    </tr>\n",
       "    <tr>\n",
       "      <th>62</th>\n",
       "      <td>Comment fonctionnent les paris système ?</td>\n",
       "      <td>Les paris système vous permettent de parier en...</td>\n",
       "    </tr>\n",
       "    <tr>\n",
       "      <th>63</th>\n",
       "      <td>Comment fonctionnent les favoris ?</td>\n",
       "      <td>Sélectionnez les matchs que vous souhaitez ajo...</td>\n",
       "    </tr>\n",
       "  </tbody>\n",
       "</table>\n",
       "<p>64 rows × 2 columns</p>\n",
       "</div>"
      ],
      "text/plain": [
       "                                            questions  \\\n",
       "0                 Comment compléter mon inscription ?   \n",
       "1   Mes documents ont été validés mais mon compte ...   \n",
       "2   J’ai renseigné une date de naissance incorrect...   \n",
       "3             Je n'ai pas reçu mon email d'activation   \n",
       "4                        J'ai oublié mon mot de passe   \n",
       "..                                                ...   \n",
       "59         L’un des paris de mon MyMatch a été annulé   \n",
       "60  Les paris sportifs permettent-ils de remporter...   \n",
       "61                            Que sont les Freebets ?   \n",
       "62           Comment fonctionnent les paris système ?   \n",
       "63                 Comment fonctionnent les favoris ?   \n",
       "\n",
       "                                              answers  \n",
       "0   Pour compléter votre inscription et accéder au...  \n",
       "1   Une fois votre compte validé (pièce d’identité...  \n",
       "2   Afin que vous puissiez vous connecter, nous vo...  \n",
       "3   Il se peut qu'un logiciel de type anti-spam ai...  \n",
       "4   Pour vous connecter à Winamax, vous devez indi...  \n",
       "..                                                ...  \n",
       "59  Si une sélection est annulée à l’intérieur d’u...  \n",
       "60  Lorsque vous placez des paris sportifs, vous c...  \n",
       "61  Les Freebets sont des paris gratuits offerts p...  \n",
       "62  Les paris système vous permettent de parier en...  \n",
       "63  Sélectionnez les matchs que vous souhaitez ajo...  \n",
       "\n",
       "[64 rows x 2 columns]"
      ]
     },
     "execution_count": 9,
     "metadata": {},
     "output_type": "execute_result"
    }
   ],
   "source": [
    "import pandas as pd\n",
    "\n",
    "QA_df = pd.DataFrame(list(all_faqs.items()), columns=['questions', 'answers'])\n",
    "QA_df"
   ]
  },
  {
   "cell_type": "code",
   "execution_count": 10,
   "id": "e328e19b",
   "metadata": {},
   "outputs": [],
   "source": [
    "## Data Preprocessing\n",
    "import re\n",
    "class TextPreprocessor():\n",
    "    def __init__(self, data_df, column_name=None):\n",
    "        self.data_df = data_df  \n",
    "        if not column_name and type(colum_name) == str:\n",
    "            raise Exception(\"column name is mandatory. Make sure type is string format\")\n",
    "        self.column = column_name\n",
    "        self.convert_lowercase()    \n",
    "        self.applied_stopword = False\n",
    "        self.processed_column_name = f\"processed_{self.column}\"\n",
    "        \n",
    "    def convert_lowercase(self):\n",
    "        ## fill empty values into empty\n",
    "        self.data_df.fillna('',inplace=True)\n",
    "        ## reduce all the columns to lowercase\n",
    "        self.data_df = self.data_df.apply(lambda column: column.astype(str).str.lower(), axis=0)    \n",
    "\n",
    "    def remove_question_no(self):\n",
    "        ## remove question no        \n",
    "        self.data_df[self.column] = self.data_df[self.column].apply(lambda row: re.sub(r'^\\d+[.]',' ', row))    \n",
    "        \n",
    "    def remove_symbols(self):\n",
    "        ## remove unwanted character          \n",
    "        self.data_df[self.column] = self.data_df[self.column].apply(lambda row: re.sub(r'[^A-Za-z0-9\\sàâäéèêëïîôöùûüÿç]', ' ', row))    \n",
    "\n",
    "    def remove_stopwords(self):\n",
    "        ## remove stopwords and create a new column \n",
    "        for idx, question in enumerate(self.data_df[self.column]):      \n",
    "            self.data_df.loc[idx, self.processed_column_name] = remove_stopwords(question)        \n",
    "\n",
    "    def apply_lemmatization(self, perform_stopword):\n",
    "        ## get the root words to reduce inflection of words \n",
    "        lemmatizer = WordNetLemmatizer()    \n",
    "        ## get the column name to perform lemma operation whether stopwords removed text or not\n",
    "        if perform_stopword:\n",
    "            column_name = self.processed_column_name\n",
    "        else:\n",
    "            column_name = self.column\n",
    "        ## iterate every question, perform tokenize and lemma\n",
    "        for idx, question in enumerate(self.data_df[column_name]):\n",
    "\n",
    "            lemmatized_sentence = []\n",
    "            ## use spacy for lemmatization\n",
    "            doc = nlp(question.strip())\n",
    "            for word in doc:       \n",
    "                lemmatized_sentence.append(word.lemma_)      \n",
    "                ## update to the same column\n",
    "                self.data_df.loc[idx, self.processed_column_name] = \" \".join(lemmatized_sentence)\n",
    "\n",
    "    def process(self, perform_stopword = True):\n",
    "        self.remove_question_no()\n",
    "        self.remove_symbols()\n",
    "        if perform_stopword:\n",
    "            self.remove_stopwords()\n",
    "        self.apply_lemmatization(perform_stopword)    \n",
    "        return self.data_df"
   ]
  },
  {
   "cell_type": "code",
   "execution_count": 11,
   "id": "19dc0171",
   "metadata": {},
   "outputs": [
    {
     "data": {
      "text/html": [
       "<div>\n",
       "<style scoped>\n",
       "    .dataframe tbody tr th:only-of-type {\n",
       "        vertical-align: middle;\n",
       "    }\n",
       "\n",
       "    .dataframe tbody tr th {\n",
       "        vertical-align: top;\n",
       "    }\n",
       "\n",
       "    .dataframe thead th {\n",
       "        text-align: right;\n",
       "    }\n",
       "</style>\n",
       "<table border=\"1\" class=\"dataframe\">\n",
       "  <thead>\n",
       "    <tr style=\"text-align: right;\">\n",
       "      <th></th>\n",
       "      <th>questions</th>\n",
       "      <th>answers</th>\n",
       "      <th>processed_questions</th>\n",
       "    </tr>\n",
       "  </thead>\n",
       "  <tbody>\n",
       "    <tr>\n",
       "      <th>0</th>\n",
       "      <td>comment compléter mon inscription</td>\n",
       "      <td>pour compléter votre inscription et accéder au...</td>\n",
       "      <td>comment compléter mon inscription</td>\n",
       "    </tr>\n",
       "    <tr>\n",
       "      <th>1</th>\n",
       "      <td>mes documents ont été validés mais mon compte ...</td>\n",
       "      <td>une fois votre compte validé (pièce d’identité...</td>\n",
       "      <td>mon document avoir être valider mais mon compt...</td>\n",
       "    </tr>\n",
       "    <tr>\n",
       "      <th>2</th>\n",
       "      <td>j ai renseigné une date de naissance incorrect...</td>\n",
       "      <td>afin que vous puissiez vous connecter, nous vo...</td>\n",
       "      <td>j avoir renseigner un date naissance incorrect...</td>\n",
       "    </tr>\n",
       "    <tr>\n",
       "      <th>3</th>\n",
       "      <td>je n ai pas reçu mon email d activation</td>\n",
       "      <td>il se peut qu'un logiciel de type anti-spam ai...</td>\n",
       "      <td>je ne avoir pas recevoir mon e-mail d activation</td>\n",
       "    </tr>\n",
       "    <tr>\n",
       "      <th>4</th>\n",
       "      <td>j ai oublié mon mot de passe</td>\n",
       "      <td>pour vous connecter à winamax, vous devez indi...</td>\n",
       "      <td>j avoir oublier mon mot passer</td>\n",
       "    </tr>\n",
       "    <tr>\n",
       "      <th>5</th>\n",
       "      <td>j ai oublié le mot de passe de mon compte wina...</td>\n",
       "      <td>dans ce cas, veuillez contacter le support en ...</td>\n",
       "      <td>j avoir oublier le mot passer mon compte winam...</td>\n",
       "    </tr>\n",
       "    <tr>\n",
       "      <th>6</th>\n",
       "      <td>je voudrais modifier mon mot de passe</td>\n",
       "      <td>connectez-vous sur le site avec votre email et...</td>\n",
       "      <td>je vouloir modifier mon mot passer</td>\n",
       "    </tr>\n",
       "    <tr>\n",
       "      <th>7</th>\n",
       "      <td>je souhaite modifier l adresse email enregistr...</td>\n",
       "      <td>pour changer votre adresse email d'identificat...</td>\n",
       "      <td>je souhaiter modifier l adresse e-mail enregis...</td>\n",
       "    </tr>\n",
       "    <tr>\n",
       "      <th>8</th>\n",
       "      <td>je souhaite changer mon pseudo</td>\n",
       "      <td>connectez-vous sur le site à l’aide de vos ide...</td>\n",
       "      <td>je souhaiter changer mon pseudo</td>\n",
       "    </tr>\n",
       "    <tr>\n",
       "      <th>9</th>\n",
       "      <td>je souhaite modifier mon avatar</td>\n",
       "      <td>il vous suffit de cliquer le bouton \"mon compt...</td>\n",
       "      <td>je souhaiter modifier mon avatar</td>\n",
       "    </tr>\n",
       "  </tbody>\n",
       "</table>\n",
       "</div>"
      ],
      "text/plain": [
       "                                           questions  \\\n",
       "0                comment compléter mon inscription     \n",
       "1  mes documents ont été validés mais mon compte ...   \n",
       "2  j ai renseigné une date de naissance incorrect...   \n",
       "3            je n ai pas reçu mon email d activation   \n",
       "4                       j ai oublié mon mot de passe   \n",
       "5  j ai oublié le mot de passe de mon compte wina...   \n",
       "6              je voudrais modifier mon mot de passe   \n",
       "7  je souhaite modifier l adresse email enregistr...   \n",
       "8                     je souhaite changer mon pseudo   \n",
       "9                    je souhaite modifier mon avatar   \n",
       "\n",
       "                                             answers  \\\n",
       "0  pour compléter votre inscription et accéder au...   \n",
       "1  une fois votre compte validé (pièce d’identité...   \n",
       "2  afin que vous puissiez vous connecter, nous vo...   \n",
       "3  il se peut qu'un logiciel de type anti-spam ai...   \n",
       "4  pour vous connecter à winamax, vous devez indi...   \n",
       "5  dans ce cas, veuillez contacter le support en ...   \n",
       "6  connectez-vous sur le site avec votre email et...   \n",
       "7  pour changer votre adresse email d'identificat...   \n",
       "8  connectez-vous sur le site à l’aide de vos ide...   \n",
       "9  il vous suffit de cliquer le bouton \"mon compt...   \n",
       "\n",
       "                                 processed_questions  \n",
       "0                  comment compléter mon inscription  \n",
       "1  mon document avoir être valider mais mon compt...  \n",
       "2  j avoir renseigner un date naissance incorrect...  \n",
       "3   je ne avoir pas recevoir mon e-mail d activation  \n",
       "4                     j avoir oublier mon mot passer  \n",
       "5  j avoir oublier le mot passer mon compte winam...  \n",
       "6                 je vouloir modifier mon mot passer  \n",
       "7  je souhaiter modifier l adresse e-mail enregis...  \n",
       "8                    je souhaiter changer mon pseudo  \n",
       "9                   je souhaiter modifier mon avatar  "
      ]
     },
     "execution_count": 11,
     "metadata": {},
     "output_type": "execute_result"
    }
   ],
   "source": [
    "## pre-process training question data\n",
    "\n",
    "text_preprocessor = TextPreprocessor(QA_df.copy(), column_name=\"questions\")\n",
    "processed_QA_df = text_preprocessor.process(perform_stopword=True)\n",
    "processed_QA_df.head(10)"
   ]
  },
  {
   "cell_type": "code",
   "execution_count": 12,
   "id": "1cd3e7f3",
   "metadata": {},
   "outputs": [],
   "source": [
    "#from bert_embedding import BertEmbedding"
   ]
  },
  {
   "cell_type": "code",
   "execution_count": 13,
   "id": "189d7e4e",
   "metadata": {},
   "outputs": [],
   "source": [
    "class TF_IDF():\n",
    "    def __init__(self):\n",
    "        self.dictionary = None    \n",
    "        self.model = None\n",
    "        self.bow_corpus = None\n",
    "\n",
    "    def create_tf_idf_model(self, data_df, column_name):\n",
    "        ## create sentence token list\n",
    "        sentence_token_list = [sentence.split(\" \") for sentence in data_df[column_name]]\n",
    "\n",
    "        ## dataset vocabulary\n",
    "        self.dictionary = Dictionary(sentence_token_list) \n",
    "\n",
    "        ## bow representation of dataset\n",
    "        self.bow_corpus = [self.dictionary.doc2bow(sentence_tokens) for sentence_tokens in sentence_token_list]\n",
    "\n",
    "        ## compute TF-IDF score for corpus\n",
    "        self.model = TfidfModel(self.bow_corpus)\n",
    "\n",
    "        ## representation of question and respective TF-IDF value\n",
    "        print(f\"First 10 question representation of TF-IDF vector\")\n",
    "        for index, sentence in enumerate(data_df[column_name]):\n",
    "            if index <= 10:\n",
    "                print(f\"{sentence} {self.model[self.bow_corpus[index]]}\")\n",
    "            else:\n",
    "                break\n",
    "\n",
    "    def get_vector_for_test_set(self, test_df, column_name):\n",
    "        ## store tf-idf vector\n",
    "        testset_tf_idf_vector = []\n",
    "        sentence_token_list = [sentence.split(\" \") for sentence in test_df[column_name]]\n",
    "        test_bow_corpus = [self.dictionary.doc2bow(sentence_tokens) for sentence_tokens in sentence_token_list]   \n",
    "        for test_sentence in test_bow_corpus:\n",
    "            testset_tf_idf_vector.append(self.model[test_sentence])      \n",
    "\n",
    "        return testset_tf_idf_vector\n",
    "\n",
    "    def get_training_QA_vectors(self):\n",
    "        QA_vectors = []\n",
    "        for sentence_vector in self.bow_corpus:\n",
    "            QA_vectors.append(self.model[sentence_vector])      \n",
    "        return QA_vectors\n",
    "\n",
    "    def get_train_vocabulary(self):\n",
    "        vocab = []\n",
    "        for index in self.dictionary:\n",
    "            vocab.append(self.dictionary[index])\n",
    "        return vocab"
   ]
  },
  {
   "cell_type": "code",
   "execution_count": 14,
   "id": "e0d89349",
   "metadata": {},
   "outputs": [
    {
     "name": "stdout",
     "output_type": "stream",
     "text": [
      "Looking in indexes: https://download.pytorch.org/whl/cu118\n",
      "Requirement already satisfied: torch in c:\\users\\andy\\anaconda3\\envs\\data\\lib\\site-packages (1.13.1)\n",
      "Requirement already satisfied: torchvision in c:\\users\\andy\\anaconda3\\envs\\data\\lib\\site-packages (0.14.1)\n",
      "Requirement already satisfied: torchaudio in c:\\users\\andy\\anaconda3\\envs\\data\\lib\\site-packages (0.13.1)\n",
      "Requirement already satisfied: typing-extensions in c:\\users\\andy\\anaconda3\\envs\\data\\lib\\site-packages (from torch) (4.4.0)\n",
      "Requirement already satisfied: numpy in c:\\users\\andy\\anaconda3\\envs\\data\\lib\\site-packages (from torchvision) (1.21.6)\n",
      "Requirement already satisfied: requests in c:\\users\\andy\\anaconda3\\envs\\data\\lib\\site-packages (from torchvision) (2.18.4)\n",
      "Requirement already satisfied: pillow!=8.3.*,>=5.3.0 in c:\\users\\andy\\anaconda3\\envs\\data\\lib\\site-packages (from torchvision) (7.2.0)\n",
      "Requirement already satisfied: certifi>=2017.4.17 in c:\\users\\andy\\anaconda3\\envs\\data\\lib\\site-packages (from requests->torchvision) (2022.6.15)\n",
      "Requirement already satisfied: chardet<3.1.0,>=3.0.2 in c:\\users\\andy\\anaconda3\\envs\\data\\lib\\site-packages (from requests->torchvision) (3.0.4)\n",
      "Requirement already satisfied: idna<2.7,>=2.5 in c:\\users\\andy\\anaconda3\\envs\\data\\lib\\site-packages (from requests->torchvision) (2.6)\n",
      "Requirement already satisfied: urllib3<1.23,>=1.21.1 in c:\\users\\andy\\anaconda3\\envs\\data\\lib\\site-packages (from requests->torchvision) (1.22)\n"
     ]
    },
    {
     "name": "stderr",
     "output_type": "stream",
     "text": [
      "WARNING: Ignoring invalid distribution -umpy (c:\\users\\andy\\anaconda3\\envs\\data\\lib\\site-packages)\n",
      "WARNING: Ignoring invalid distribution -umpy (c:\\users\\andy\\anaconda3\\envs\\data\\lib\\site-packages)\n",
      "\n",
      "[notice] A new release of pip is available: 23.2.1 -> 23.3.1\n",
      "[notice] To update, run: python.exe -m pip install --upgrade pip\n"
     ]
    }
   ],
   "source": [
    "!pip install torch torchvision torchaudio --index-url https://download.pytorch.org/whl/cu118"
   ]
  },
  {
   "cell_type": "code",
   "execution_count": 15,
   "id": "7ea54d7b",
   "metadata": {},
   "outputs": [],
   "source": [
    "import torch"
   ]
  },
  {
   "cell_type": "code",
   "execution_count": 16,
   "id": "10c0e6d6",
   "metadata": {},
   "outputs": [],
   "source": [
    "from transformers import BertTokenizer, BertModel"
   ]
  },
  {
   "cell_type": "code",
   "execution_count": 17,
   "id": "fa5d763f",
   "metadata": {},
   "outputs": [
    {
     "name": "stderr",
     "output_type": "stream",
     "text": [
      "'conda' n'est pas reconnu en tant que commande interne\n",
      "ou externe, un programme ex‚cutable ou un fichier de commandes.\n"
     ]
    }
   ],
   "source": [
    "!conda install pytorch torchvision torchaudio pytorch-cuda=11.8 -c pytorch -c nvidia"
   ]
  },
  {
   "cell_type": "code",
   "execution_count": 18,
   "id": "23f76097",
   "metadata": {},
   "outputs": [
    {
     "data": {
      "application/vnd.jupyter.widget-view+json": {
       "model_id": "e1bc4666d2ec499eb468c37a3ec60d64",
       "version_major": 2,
       "version_minor": 0
      },
      "text/plain": [
       "Downloading pytorch_model.bin:   0%|          | 0.00/445M [00:00<?, ?B/s]"
      ]
     },
     "metadata": {},
     "output_type": "display_data"
    },
    {
     "name": "stderr",
     "output_type": "stream",
     "text": [
      "C:\\Users\\andy\\anaconda3\\envs\\Data\\lib\\site-packages\\huggingface_hub\\file_download.py:133: UserWarning: `huggingface_hub` cache-system uses symlinks by default to efficiently store duplicated files but your machine does not support them in C:\\Users\\andy\\.cache\\huggingface\\hub. Caching files will still work but in a degraded version that might require more space on your disk. This warning can be disabled by setting the `HF_HUB_DISABLE_SYMLINKS_WARNING` environment variable. For more details, see https://huggingface.co/docs/huggingface_hub/how-to-cache#limitations.\n",
      "To support symlinks on Windows, you either need to activate Developer Mode or to run Python as an administrator. In order to see activate developer mode, see this article: https://docs.microsoft.com/en-us/windows/apps/get-started/enable-your-device-for-development\n",
      "  warnings.warn(message)\n",
      "Some weights of the model checkpoint at dbmdz/bert-base-french-europeana-cased were not used when initializing BertModel: ['cls.seq_relationship.weight', 'cls.predictions.decoder.bias', 'cls.predictions.transform.dense.weight', 'cls.predictions.decoder.weight', 'cls.seq_relationship.bias', 'cls.predictions.transform.dense.bias', 'cls.predictions.transform.LayerNorm.bias', 'cls.predictions.bias', 'cls.predictions.transform.LayerNorm.weight']\n",
      "- This IS expected if you are initializing BertModel from the checkpoint of a model trained on another task or with another architecture (e.g. initializing a BertForSequenceClassification model from a BertForPreTraining model).\n",
      "- This IS NOT expected if you are initializing BertModel from the checkpoint of a model that you expect to be exactly identical (initializing a BertForSequenceClassification model from a BertForSequenceClassification model).\n"
     ]
    }
   ],
   "source": [
    "from transformers import AutoModel, AutoTokenizer\n",
    "tokenizer = AutoTokenizer.from_pretrained(\"dbmdz/bert-base-french-europeana-cased\")\n",
    "model = AutoModel.from_pretrained(\"dbmdz/bert-base-french-europeana-cased\")\n",
    "\n",
    "\n"
   ]
  },
  {
   "cell_type": "code",
   "execution_count": 31,
   "id": "b27a9bae",
   "metadata": {},
   "outputs": [],
   "source": [
    "def get_bert_embeddings(sentences):\n",
    "    all_tokens = []\n",
    "    all_embeddings = []\n",
    "    \n",
    "    for sentence in sentences:\n",
    "        # Tokenize input text\n",
    "        inputs = tokenizer(sentence, return_tensors='pt', truncation=True, padding=True)\n",
    "        \n",
    "        # Get BERT embeddings\n",
    "        with torch.no_grad():\n",
    "            outputs = model(**inputs)\n",
    "        \n",
    "        # Extract tokens and embeddings\n",
    "        tokens = tokenizer.convert_ids_to_tokens(inputs['input_ids'][0])  # Assuming batch size of 1\n",
    "        embeddings = outputs.last_hidden_state[0].tolist()\n",
    "        \n",
    "        all_tokens.append(tokens)\n",
    "        all_embeddings.append(embeddings)\n",
    "    \n",
    "    # Pair tokens with embeddings for each sentence\n",
    "    bert_output = list(zip(all_tokens, all_embeddings))\n",
    "    return bert_output\n",
    "\n"
   ]
  },
  {
   "cell_type": "code",
   "execution_count": 32,
   "id": "0a554af4",
   "metadata": {},
   "outputs": [
    {
     "name": "stdout",
     "output_type": "stream",
     "text": [
      "First 10 question representation of TF-IDF vector\n",
      "comment compléter mon inscription [(0, 0.21878517146541068), (1, 0.6863715158615069), (2, 0.6863715158615069), (3, 0.09960588925764022)]\n",
      "mon document avoir être valider mais mon compte être bloquer [(3, 0.13580810698690746), (4, 0.22070726519916853), (5, 0.4679181971749496), (6, 0.1632339964987991), (7, 0.4679181971749496), (8, 0.38993183097912465), (9, 0.4679181971749496), (10, 0.31194546478329976)]\n",
      "j avoir renseigner un date naissance incorrect et je ne pouvoir pas connecter [(4, 0.17824626524673423), (11, 0.31491438449082665), (12, 0.377897261388992), (13, 0.2519315075926613), (14, 0.377897261388992), (15, 0.2316555500223097), (16, 0.07511621812724871), (17, 0.377897261388992), (18, 0.14483292215222995), (19, 0.15210600952153247), (20, 0.31491438449082665), (21, 0.377897261388992), (22, 0.17824626524673423)]\n",
      "je ne avoir pas recevoir mon e-mail d activation [(3, 0.08233441498928427), (4, 0.26760999718242456), (16, 0.11277572011711878), (18, 0.2174448807408642), (19, 0.22836432911030058), (23, 0.5673559831145295), (24, 0.378237322076353), (25, 0.4727966525954413), (26, 0.3477960169485185)]\n",
      "j avoir oublier mon mot passer [(3, 0.09373891866758853), (4, 0.3046778405334117), (15, 0.3959707802611039), (27, 0.4753104040846474), (28, 0.5382858063632359), (29, 0.4753104040846474)]\n",
      "j avoir oublier le mot passer mon compte winamax et je ne avoir plus accès à l adresse mail associer [(3, 0.04801812907034703), (4, 0.31214483972208457), (6, 0.11543038610064052), (13, 0.220591213929783), (15, 0.20283758661745663), (16, 0.06577175638267345), (18, 0.1268156985199926), (27, 0.24347962037785842), (28, 0.2757390174122288), (29, 0.24347962037785842), (30, 0.3308868208946745), (31, 0.2757390174122288), (32, 0.3308868208946745), (33, 0.18833181689541267), (34, 0.11543038610064052), (35, 0.3308868208946745), (36, 0.2757390174122288), (37, 0.17606736334756495), (38, 0.14768978313501085)]\n",
      "je vouloir modifier mon mot passer [(3, 0.1078540700171216), (16, 0.147730695788949), (27, 0.5468823657311633), (29, 0.5468823657311633), (39, 0.49547245369534604), (40, 0.3505560509193076)]\n",
      "je souhaiter modifier l adresse e-mail enregistrer sur mon compte [(3, 0.07374268733716106), (6, 0.17726944044314882), (16, 0.1010073936749565), (25, 0.4234595670709468), (31, 0.4234595670709468), (33, 0.2892260601951336), (39, 0.33876765365675743), (41, 0.5081514804851361), (42, 0.2703912205033352), (43, 0.25407574024256807)]\n",
      "je souhaiter changer mon pseudo [(3, 0.09479248271582512), (16, 0.12983987924561122), (42, 0.3475741937486598), (44, 0.6532029435091457), (45, 0.6532029435091457)]\n",
      "je souhaiter modifier mon avatar [(3, 0.1085233878508251), (16, 0.14864747889468877), (39, 0.4985472430780228), (42, 0.39792110043370016), (46, 0.7478208646170342)]\n",
      "je vouloir modifier mon information personnel [(3, 0.09324895814038218), (16, 0.1277256710431639), (39, 0.42837780796788894), (40, 0.30308533106671715), (47, 0.5354722599598613), (48, 0.6425667119518335)]\n"
     ]
    }
   ],
   "source": [
    "tf_idf = TF_IDF()\n",
    "tf_idf.create_tf_idf_model(processed_QA_df, \"processed_questions\")\n",
    "## get the tf-idf reprentation \n",
    "question_QA_vectors = tf_idf.get_training_QA_vectors()"
   ]
  },
  {
   "cell_type": "code",
   "execution_count": 33,
   "id": "1c0f3abb",
   "metadata": {},
   "outputs": [],
   "source": [
    "## Get the document vocabulary list from TF-IDF\n",
    "document_vocabulary = tf_idf.get_train_vocabulary()"
   ]
  },
  {
   "cell_type": "code",
   "execution_count": 34,
   "id": "a42039ed",
   "metadata": {},
   "outputs": [],
   "source": [
    "question_QA_bert_embeddings_list = get_bert_embeddings(processed_QA_df[\"questions\"].to_list())"
   ]
  },
  {
   "cell_type": "code",
   "execution_count": 35,
   "id": "d61fc541",
   "metadata": {},
   "outputs": [],
   "source": [
    "## helps to retrieve similar question based of input vectors/embeddings for test query\n",
    "def retrieveSimilarFAQ(train_question_vectors, test_question_vectors, train_QA_df, train_column_name, test_QA_df, test_column_name):\n",
    "    for test_index, test_vector in enumerate(test_question_vectors):\n",
    "        # Store top 5 similar questions - tuple of (similarity_score, train_index)\n",
    "        top_5_similar = [(-1, -1) for _ in range(5)]\n",
    "        \n",
    "        for train_index, train_vector in enumerate(train_question_vectors):\n",
    "            sim_score = cosine_similarity(train_vector, test_vector)[0][0]\n",
    "            \n",
    "            # Check if this score is higher than the smallest in top_5\n",
    "            if sim_score > top_5_similar[0][0]:\n",
    "                top_5_similar[0] = (sim_score, train_index)\n",
    "                # Sort the top 5 by score to always have the smallest score at 0 index\n",
    "                top_5_similar.sort(key=lambda x: x[0])\n",
    "\n",
    "        print(\"######\")\n",
    "        print(f\"Query Question: {test_QA_df[test_column_name].iloc[test_index]}\")    \n",
    "        for _, sim_Q_index in top_5_similar:\n",
    "            print(f\"Retrieved Question: {train_QA_df[train_column_name].iloc[sim_Q_index]}\")\n",
    "        print(\"######\")\n"
   ]
  },
  {
   "cell_type": "code",
   "execution_count": 36,
   "id": "0a4d7301",
   "metadata": {},
   "outputs": [],
   "source": [
    "test_query_string = [\"Je voudrais annuler un pari que je viens de placer\", \n",
    "                     \"Je n’ai pas reçu mon argent de mon pari gagnant\",\n",
    "                     \"changer de mot de passe\",\n",
    "                \"Comment s'inscrire aux tournois gratuits ?\",\n",
    "                \"Je souhaite retirer mes gains \",\n",
    "                \"Je ne parviens pas à me connecter\"]\n",
    "\n",
    "test_QA_df = pd.DataFrame(test_query_string, columns=[\"test_questions\"])              \n",
    "## pre-process testing QA data\n",
    "text_preprocessor = TextPreprocessor(test_QA_df, column_name=\"test_questions\")\n",
    "query_QA_df = text_preprocessor.process(perform_stopword=True)"
   ]
  },
  {
   "cell_type": "code",
   "execution_count": 37,
   "id": "1bdd8050",
   "metadata": {},
   "outputs": [
    {
     "data": {
      "text/html": [
       "<div>\n",
       "<style scoped>\n",
       "    .dataframe tbody tr th:only-of-type {\n",
       "        vertical-align: middle;\n",
       "    }\n",
       "\n",
       "    .dataframe tbody tr th {\n",
       "        vertical-align: top;\n",
       "    }\n",
       "\n",
       "    .dataframe thead th {\n",
       "        text-align: right;\n",
       "    }\n",
       "</style>\n",
       "<table border=\"1\" class=\"dataframe\">\n",
       "  <thead>\n",
       "    <tr style=\"text-align: right;\">\n",
       "      <th></th>\n",
       "      <th>test_questions</th>\n",
       "      <th>processed_test_questions</th>\n",
       "    </tr>\n",
       "  </thead>\n",
       "  <tbody>\n",
       "    <tr>\n",
       "      <th>0</th>\n",
       "      <td>je voudrais annuler un pari que je viens de pl...</td>\n",
       "      <td>je vouloir annuler pari que je venir placer</td>\n",
       "    </tr>\n",
       "    <tr>\n",
       "      <th>1</th>\n",
       "      <td>je n ai pas reçu mon argent de mon pari gagnant</td>\n",
       "      <td>je ne avoir pas recevoir mon argent mon pari g...</td>\n",
       "    </tr>\n",
       "    <tr>\n",
       "      <th>2</th>\n",
       "      <td>changer de mot de passe</td>\n",
       "      <td>changer mot passer</td>\n",
       "    </tr>\n",
       "    <tr>\n",
       "      <th>3</th>\n",
       "      <td>comment s inscrire aux tournois gratuits</td>\n",
       "      <td>comment s inscrire à tournoi gratuit</td>\n",
       "    </tr>\n",
       "    <tr>\n",
       "      <th>4</th>\n",
       "      <td>je souhaite retirer mes gains</td>\n",
       "      <td>je souhaiter retirer mon gain</td>\n",
       "    </tr>\n",
       "  </tbody>\n",
       "</table>\n",
       "</div>"
      ],
      "text/plain": [
       "                                      test_questions  \\\n",
       "0  je voudrais annuler un pari que je viens de pl...   \n",
       "1    je n ai pas reçu mon argent de mon pari gagnant   \n",
       "2                            changer de mot de passe   \n",
       "3         comment s inscrire aux tournois gratuits     \n",
       "4                     je souhaite retirer mes gains    \n",
       "\n",
       "                            processed_test_questions  \n",
       "0        je vouloir annuler pari que je venir placer  \n",
       "1  je ne avoir pas recevoir mon argent mon pari g...  \n",
       "2                                 changer mot passer  \n",
       "3               comment s inscrire à tournoi gratuit  \n",
       "4                      je souhaiter retirer mon gain  "
      ]
     },
     "execution_count": 37,
     "metadata": {},
     "output_type": "execute_result"
    }
   ],
   "source": [
    "## TF-IDF vector represetation\n",
    "query_QA_vectors = tf_idf.get_vector_for_test_set(query_QA_df, \"processed_test_questions\")\n",
    "query_QA_df.head()"
   ]
  },
  {
   "cell_type": "code",
   "execution_count": 38,
   "id": "9443971d",
   "metadata": {},
   "outputs": [],
   "source": [
    "query_QA_bert_embeddings_list = get_bert_embeddings(test_QA_df[\"test_questions\"].to_list())"
   ]
  },
  {
   "cell_type": "code",
   "execution_count": 39,
   "id": "49df85ba",
   "metadata": {},
   "outputs": [],
   "source": [
    "## store QA bert embeddings in list\n",
    "question_QA_bert_embeddings = []\n",
    "for embeddings in question_QA_bert_embeddings_list:\n",
    "    question_QA_bert_embeddings.append(embeddings[1])\n",
    "\n",
    "## store query string bert embeddings in list\n",
    "query_QA_bert_embeddings = []\n",
    "for embeddings in query_QA_bert_embeddings_list:\n",
    "    query_QA_bert_embeddings.append(embeddings[1])"
   ]
  },
  {
   "cell_type": "code",
   "execution_count": 40,
   "id": "68b6313e",
   "metadata": {},
   "outputs": [],
   "source": [
    "from sklearn.metrics.pairwise import cosine_similarity"
   ]
  },
  {
   "cell_type": "code",
   "execution_count": 41,
   "id": "683a50b9",
   "metadata": {
    "scrolled": true
   },
   "outputs": [
    {
     "name": "stdout",
     "output_type": "stream",
     "text": [
      "######\n",
      "Query Question: je voudrais annuler un pari que je viens de placer\n",
      "Retrieved Question: je voudrais modifier mes informations personnelles\n",
      "Retrieved Question: je voudrais créer un autre compte\n",
      "Retrieved Question: je voudrais créditer mon compte\n",
      "Retrieved Question: je voudrais modifier mon mot de passe\n",
      "Retrieved Question: je voudrais annuler un pari que je viens de placer\n",
      "######\n",
      "######\n",
      "Query Question: je n ai pas reçu mon argent de mon pari gagnant\n",
      "Retrieved Question: j ai reçu un bonus mais il n a pas été crédité sur mon compte\n",
      "Retrieved Question: je n ai pas reçu mon retrait\n",
      "Retrieved Question: je souhaite faire un dépôt via paypal\n",
      "Retrieved Question: je voudrais créditer mon compte\n",
      "Retrieved Question: je n ai pas reçu les gains de mon pari gagnant\n",
      "######\n",
      "######\n",
      "Query Question: changer de mot de passe\n",
      "Retrieved Question: je souhaite modifier l adresse email enregistrée sur mon compte\n",
      "Retrieved Question: comment rejoindre une partie de poker  \n",
      "Retrieved Question: comment compléter mon inscription  \n",
      "Retrieved Question: j ai oublié mon mot de passe\n",
      "Retrieved Question: je voudrais modifier mon mot de passe\n",
      "######\n",
      "######\n",
      "Query Question: comment s inscrire aux tournois gratuits  \n",
      "Retrieved Question: comment recharger mon compte argent fictif  \n",
      "Retrieved Question: comment faire la différence entre les tables en argent réel ou fictif  \n",
      "Retrieved Question: comment montrer mes cartes aux autres joueurs  \n",
      "Retrieved Question: quels sont les méthodes de dépôt disponibles  \n",
      "Retrieved Question: comment s inscrire aux tournois gratuits  freerolls   \n",
      "######\n",
      "######\n",
      "Query Question: je souhaite retirer mes gains \n",
      "Retrieved Question: comment bénéficier de mon bonus de premier dépôt  \n",
      "Retrieved Question: je veux m inscrire au freeroll de mon statut vip\n",
      "Retrieved Question: je souhaite retirer mes gains vers un compte bancaire\n",
      "Retrieved Question: je souhaite modifier l adresse email enregistrée sur mon compte\n",
      "Retrieved Question: je souhaite retirer mes gains vers un compte skrill\n",
      "######\n",
      "######\n",
      "Query Question: je ne parviens pas à me connecter\n",
      "Retrieved Question: je veux m inscrire au freeroll de mon statut vip\n",
      "Retrieved Question: je souhaite modifier mon avatar\n",
      "Retrieved Question: je ne veux plus recevoir la newsletter\n",
      "Retrieved Question: je n arrive pas à installer le logiciel sous macintosh \n",
      "Retrieved Question: je ne parviens pas à me connecter\n",
      "######\n"
     ]
    }
   ],
   "source": [
    "retrieveSimilarFAQ(question_QA_bert_embeddings, query_QA_bert_embeddings, processed_QA_df, \"questions\", query_QA_df, \"test_questions\")"
   ]
  },
  {
   "cell_type": "code",
   "execution_count": null,
   "id": "d9b031cc",
   "metadata": {},
   "outputs": [],
   "source": []
  }
 ],
 "metadata": {
  "kernelspec": {
   "display_name": "Python 3 (ipykernel)",
   "language": "python",
   "name": "python3"
  },
  "language_info": {
   "codemirror_mode": {
    "name": "ipython",
    "version": 3
   },
   "file_extension": ".py",
   "mimetype": "text/x-python",
   "name": "python",
   "nbconvert_exporter": "python",
   "pygments_lexer": "ipython3",
   "version": "3.7.13"
  }
 },
 "nbformat": 4,
 "nbformat_minor": 5
}
